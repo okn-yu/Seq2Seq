{
 "cells": [
  {
   "cell_type": "code",
   "execution_count": 1,
   "metadata": {},
   "outputs": [],
   "source": [
    "import torch\n",
    "import torch.nn as nn\n",
    "import torch.optim as optim\n",
    "\n",
    "from sklearn.model_selection import train_test_split\n",
    "from sklearn.utils import shuffle\n",
    "\n",
    "from src.data_gen import subtraction_datasets, to_ID, to_batch\n",
    "from src.endeco import Encoder, Decoder"
   ]
  },
  {
   "cell_type": "code",
   "execution_count": 2,
   "metadata": {},
   "outputs": [
    {
     "name": "stdout",
     "output_type": "stream",
     "text": [
      "cuda\n"
     ]
    }
   ],
   "source": [
    "embedding_dim = 200\n",
    "hidden_dim = 128\n",
    "vocab_size = len(to_ID())\n",
    "\n",
    "BATCH_NUM = 100\n",
    "\n",
    "device = torch.device('cuda' if torch.cuda.is_available() else 'cpu')\n",
    "print(device)"
   ]
  },
  {
   "cell_type": "code",
   "execution_count": 3,
   "metadata": {},
   "outputs": [],
   "source": [
    "input_data, output_data = subtraction_datasets(record_num=50000)\n",
    "train_x, test_x, train_y, test_y = train_test_split(input_data, output_data, train_size=0.7)\n",
    "criterion = nn.CrossEntropyLoss()"
   ]
  },
  {
   "cell_type": "code",
   "execution_count": 4,
   "metadata": {},
   "outputs": [],
   "source": [
    "def train(EPOCH_NUM=100, lr=0.001):\n",
    "    all_losses = []\n",
    "    print(\"training...\")\n",
    "    \n",
    "    encoder_optimizer = optim.Adam(encoder.parameters(), lr=0.001)\n",
    "    decoder_optimizer = optim.Adam(decoder.parameters(), lr=0.001)\n",
    "    \n",
    "    for epoch in range(1, EPOCH_NUM + 1):\n",
    "        epoch_loss = 0\n",
    "\n",
    "        input_batch, output_batch = to_batch(train_x, train_y, batch_size=BATCH_NUM)\n",
    "\n",
    "        for i in range(len(input_batch)):\n",
    "            encoder_optimizer.zero_grad()\n",
    "            decoder_optimizer.zero_grad()\n",
    "\n",
    "            input_ts = torch.tensor(input_batch[i], device=device)\n",
    "            output_ts = torch.tensor(output_batch[i], device=device)\n",
    "            #print('input_ts.shape: ', input_ts.shape)\n",
    "            #torch.Size([100, 7])\n",
    "\n",
    "            encoder_state = encoder(input_ts)\n",
    "            #print(len(encoder_state))\n",
    "            #2\n",
    "            #print(encoder_state[0].shape, encoder_state[1].shape)\n",
    "            #torch.Size([1, 100, 128]) torch.Size([1, 100, 128])\n",
    "\n",
    "            # last-data can not be next-input.\n",
    "            training_source = output_ts[:, :-1]\n",
    "            # start symbol can not ba data to train.\n",
    "            training_data = output_ts[:, 1:]\n",
    "\n",
    "            #print('training_source.shape: ', training_source.shape, ', training_data.shape: ', training_data.shape)\n",
    "            #training_source.shape:  torch.Size([100, 4]) , training_data.shape:  torch.Size([100, 4])\n",
    "            loss = 0\n",
    "\n",
    "            decoder_output, _ = decoder(training_source, encoder_state)\n",
    "            #print(decoder_output.shape)\n",
    "            #torch.Size([100, 4, 13])\n",
    "\n",
    "            for j in range(decoder_output.size()[1]):\n",
    "                loss += criterion(decoder_output[:, j, :], training_data[:, j])\n",
    "\n",
    "            epoch_loss += loss.item()\n",
    "            loss.backward()\n",
    "\n",
    "            encoder_optimizer.step()\n",
    "            decoder_optimizer.step()\n",
    "\n",
    "        print(\"Epoch %d: %.2f\" % (epoch, epoch_loss))\n",
    "        all_losses.append(epoch_loss)\n",
    "        #if epoch_loss < 1: break\n",
    "    print(\"Done\")\n",
    "    \n",
    "    return all_losses"
   ]
  },
  {
   "cell_type": "code",
   "execution_count": 5,
   "metadata": {},
   "outputs": [],
   "source": [
    "encoder = Encoder(vocab_size, embedding_dim, hidden_dim, num_layers=1).to(device)\n",
    "decoder = Decoder(vocab_size, embedding_dim, hidden_dim, num_layers=1).to(device)"
   ]
  },
  {
   "cell_type": "markdown",
   "metadata": {},
   "source": [
    "# Training1\n",
    "* num_layers=1"
   ]
  },
  {
   "cell_type": "code",
   "execution_count": 6,
   "metadata": {},
   "outputs": [
    {
     "name": "stdout",
     "output_type": "stream",
     "text": [
      "training...\n",
      "Epoch 1: 1903.82\n",
      "Epoch 2: 1400.08\n",
      "Epoch 3: 1207.91\n",
      "Epoch 4: 1066.66\n",
      "Epoch 5: 955.46\n",
      "Epoch 6: 851.73\n",
      "Epoch 7: 757.49\n",
      "Epoch 8: 677.18\n",
      "Epoch 9: 604.25\n",
      "Epoch 10: 537.07\n",
      "Epoch 11: 480.64\n",
      "Epoch 12: 436.96\n",
      "Epoch 13: 392.02\n",
      "Epoch 14: 369.62\n",
      "Epoch 15: 341.04\n",
      "Epoch 16: 314.54\n",
      "Epoch 17: 295.32\n",
      "Epoch 18: 277.25\n",
      "Epoch 19: 262.52\n",
      "Epoch 20: 252.10\n",
      "Epoch 21: 236.35\n",
      "Epoch 22: 222.41\n",
      "Epoch 23: 212.56\n",
      "Epoch 24: 200.69\n",
      "Epoch 25: 194.68\n",
      "Epoch 26: 189.10\n",
      "Epoch 27: 174.65\n",
      "Epoch 28: 170.15\n",
      "Epoch 29: 167.32\n",
      "Epoch 30: 159.36\n",
      "Epoch 31: 154.49\n",
      "Epoch 32: 140.44\n",
      "Epoch 33: 142.21\n",
      "Epoch 34: 137.46\n",
      "Epoch 35: 131.87\n",
      "Epoch 36: 121.88\n",
      "Epoch 37: 120.37\n",
      "Epoch 38: 120.68\n",
      "Epoch 39: 113.36\n",
      "Epoch 40: 108.47\n",
      "Epoch 41: 106.55\n",
      "Epoch 42: 107.89\n",
      "Epoch 43: 97.63\n",
      "Epoch 44: 95.88\n",
      "Epoch 45: 83.25\n",
      "Epoch 46: 87.42\n",
      "Epoch 47: 88.68\n",
      "Epoch 48: 99.94\n",
      "Epoch 49: 75.45\n",
      "Epoch 50: 68.78\n",
      "Epoch 51: 73.11\n",
      "Epoch 52: 71.64\n",
      "Epoch 53: 72.24\n",
      "Epoch 54: 69.56\n",
      "Epoch 55: 67.98\n",
      "Epoch 56: 60.59\n",
      "Epoch 57: 68.76\n",
      "Epoch 58: 59.20\n",
      "Epoch 59: 47.46\n",
      "Epoch 60: 52.66\n",
      "Epoch 61: 74.89\n",
      "Epoch 62: 45.09\n",
      "Epoch 63: 39.18\n",
      "Epoch 64: 63.45\n",
      "Epoch 65: 55.32\n",
      "Epoch 66: 36.55\n",
      "Epoch 67: 35.60\n",
      "Epoch 68: 46.22\n",
      "Epoch 69: 59.66\n",
      "Epoch 70: 44.64\n",
      "Epoch 71: 38.83\n",
      "Epoch 72: 32.77\n",
      "Epoch 73: 39.94\n",
      "Epoch 74: 37.72\n",
      "Epoch 75: 35.49\n",
      "Epoch 76: 38.23\n",
      "Epoch 77: 36.42\n",
      "Epoch 78: 28.85\n",
      "Epoch 79: 29.55\n",
      "Epoch 80: 33.41\n",
      "Epoch 81: 40.34\n",
      "Epoch 82: 27.71\n",
      "Epoch 83: 28.96\n",
      "Epoch 84: 22.05\n",
      "Epoch 85: 31.01\n",
      "Epoch 86: 37.40\n",
      "Epoch 87: 29.38\n",
      "Epoch 88: 27.36\n",
      "Epoch 89: 26.08\n",
      "Epoch 90: 23.45\n",
      "Epoch 91: 33.45\n",
      "Epoch 92: 16.92\n",
      "Epoch 93: 19.12\n",
      "Epoch 94: 21.87\n",
      "Epoch 95: 27.14\n",
      "Epoch 96: 28.10\n",
      "Epoch 97: 21.13\n",
      "Epoch 98: 23.56\n",
      "Epoch 99: 20.09\n",
      "Epoch 100: 25.37\n",
      "Done\n",
      "training...\n",
      "Epoch 1: 20.35\n",
      "Epoch 2: 18.26\n",
      "Epoch 3: 38.19\n",
      "Epoch 4: 17.00\n",
      "Epoch 5: 11.75\n",
      "Epoch 6: 11.86\n",
      "Epoch 7: 10.37\n",
      "Epoch 8: 23.77\n",
      "Epoch 9: 57.49\n",
      "Epoch 10: 13.59\n",
      "Epoch 11: 6.75\n",
      "Epoch 12: 3.78\n",
      "Epoch 13: 2.98\n",
      "Epoch 14: 2.64\n",
      "Epoch 15: 2.41\n",
      "Epoch 16: 2.20\n",
      "Epoch 17: 2.03\n",
      "Epoch 18: 2.86\n",
      "Epoch 19: 147.41\n",
      "Epoch 20: 20.84\n",
      "Epoch 21: 9.03\n",
      "Epoch 22: 4.97\n",
      "Epoch 23: 3.22\n",
      "Epoch 24: 2.58\n",
      "Epoch 25: 2.26\n",
      "Epoch 26: 2.03\n",
      "Epoch 27: 1.85\n",
      "Epoch 28: 1.68\n",
      "Epoch 29: 1.54\n",
      "Epoch 30: 1.42\n",
      "Epoch 31: 1.33\n",
      "Epoch 32: 160.70\n",
      "Epoch 33: 27.20\n",
      "Epoch 34: 9.79\n",
      "Epoch 35: 4.92\n",
      "Epoch 36: 8.50\n",
      "Epoch 37: 23.97\n",
      "Epoch 38: 20.41\n",
      "Epoch 39: 11.29\n",
      "Epoch 40: 7.65\n",
      "Epoch 41: 5.78\n",
      "Epoch 42: 3.32\n",
      "Epoch 43: 1.96\n",
      "Epoch 44: 1.47\n",
      "Epoch 45: 1.25\n",
      "Epoch 46: 1.13\n",
      "Epoch 47: 1.03\n",
      "Epoch 48: 0.95\n",
      "Epoch 49: 0.87\n",
      "Epoch 50: 0.80\n",
      "Done\n"
     ]
    }
   ],
   "source": [
    "all_losses = train(EPOCH_NUM=100, lr=0.001)\n",
    "all_losses = train(EPOCH_NUM=50, lr=0.0005)"
   ]
  },
  {
   "cell_type": "code",
   "execution_count": 7,
   "metadata": {},
   "outputs": [
    {
     "data": {
      "text/plain": [
       "[<matplotlib.lines.Line2D at 0x7fddd40aecf8>]"
      ]
     },
     "execution_count": 7,
     "metadata": {},
     "output_type": "execute_result"
    },
    {
     "data": {
      "image/png": "[encoded data removed]",
      "text/plain": [
       "<Figure size 432x288 with 1 Axes>"
      ]
     },
     "metadata": {
      "needs_background": "light"
     },
     "output_type": "display_data"
    }
   ],
   "source": [
    "import matplotlib.pyplot as plt\n",
    "%matplotlib inline\n",
    "plt.plot(all_losses)"
   ]
  },
  {
   "cell_type": "markdown",
   "metadata": {},
   "source": [
    "# Prediction1"
   ]
  },
  {
   "cell_type": "code",
   "execution_count": 8,
   "metadata": {},
   "outputs": [],
   "source": [
    "def get_max_index(decoder_output):\n",
    "    #print('get_max_index: decoder_output.shape: ', decoder_output.shape)\n",
    "    #torch.Size([100, 13])\n",
    "    \n",
    "    results = []\n",
    "    for h in decoder_output:\n",
    "        #print(torch.argmax(h).shape)\n",
    "        #torch.Size([])\n",
    "        #print(torch.argmax(h))\n",
    "        #tensor(11, device='cuda:0')\n",
    "\n",
    "        results.append(torch.argmax(h))\n",
    "        \n",
    "    results = torch.tensor(results, device=device).view(BATCH_NUM, 1)\n",
    "    #print(results.shape)\n",
    "    #torch.Size([100, 1])\n",
    "    return results"
   ]
  },
  {
   "cell_type": "code",
   "execution_count": 9,
   "metadata": {},
   "outputs": [
    {
     "name": "stdout",
     "output_type": "stream",
     "text": [
      "150\n",
      "torch.Size([100, 5])\n"
     ]
    }
   ],
   "source": [
    "test_input_batch, test_output_batch = to_batch(test_x, test_y)\n",
    "input_tensor = torch.tensor(test_input_batch, device=device)\n",
    "\n",
    "predicts = []\n",
    "for i in range(len(test_input_batch)):\n",
    "    with torch.no_grad(): \n",
    "        encoder_state = encoder(input_tensor[i])\n",
    "\n",
    "        # Add start symbol.\n",
    "        start_char_batch = [[to_ID()[\"_\"]] for _ in range(BATCH_NUM)]\n",
    "        decoder_input_tensor = torch.tensor(start_char_batch, device=device)\n",
    "\n",
    "        decoder_hidden = encoder_state\n",
    "\n",
    "        # store prediction.\n",
    "        batch_tmp = torch.zeros(100,1, dtype=torch.long, device=device)\n",
    "        # print(batch_tmp.size())\n",
    "        # (100,1)\n",
    "\n",
    "        for _ in range(5):\n",
    "            decoder_output, decoder_hidden = decoder(decoder_input_tensor, decoder_hidden)\n",
    "            #print('decoder_output.shape: ', decoder_output.shape)\n",
    "            #decoder_output.shape:  torch.Size([100, 1, 13])\n",
    "\n",
    "            # output(predicted character) will be next input.\n",
    "            decoder_input_tensor = get_max_index(decoder_output.squeeze())\n",
    "        \n",
    "            batch_tmp = torch.cat([batch_tmp, decoder_input_tensor], dim=1)\n",
    "\n",
    "            # remove head element.\n",
    "            #print('batch_tmp[:, 1:]: ', batch_tmp[:, 1:])\n",
    "            #batch_tmp[:, 1:]:  tensor([[11],\n",
    "        predicts.append(batch_tmp[:,1:])\n",
    "\n",
    "print(len(predicts))\n",
    "# 150\n",
    "print(predicts[0].size())\n",
    "# (100, 5)"
   ]
  },
  {
   "cell_type": "code",
   "execution_count": 10,
   "metadata": {},
   "outputs": [
    {
     "name": "stdout",
     "output_type": "stream",
     "text": [
      "0.8668\n",
      "      input answer predict judge\n",
      "3   788-159    629     621     X\n",
      "10  931-468    463     473     X\n",
      "18  800-769     31      41     X\n",
      "39  565-792   -227    -237     X\n",
      "45    2-519   -517   -5177     X\n",
      "49   91-979   -888    -898     X\n",
      "51   66-748   -682    -692     X\n",
      "72   771-56    715     725     X\n",
      "73   674-44    630     640     X\n",
      "76   96-587   -491    -481     X\n"
     ]
    }
   ],
   "source": [
    "import pandas as pd\n",
    "id2char = {str(i) : str(i) for i in range(10)}\n",
    "id2char.update({\"10\":\"\", \"11\":\"-\", \"12\":\"\"})\n",
    "row = []\n",
    "for i in range(len(test_input_batch)):\n",
    "    batch_input = test_input_batch[i]\n",
    "    batch_output = test_output_batch[i]\n",
    "    batch_predict = predicts[i]\n",
    "    for inp, output, predict in zip(batch_input, batch_output, batch_predict):\n",
    "        x = [id2char[str(idx)] for idx in inp]\n",
    "        y = [id2char[str(idx)] for idx in output]\n",
    "        p = [id2char[str(idx.item())] for idx in predict]\n",
    "\n",
    "        x_str = \"\".join(x)\n",
    "        y_str = \"\".join(y)\n",
    "        p_str = \"\".join(p)\n",
    "\n",
    "        judge = \"O\" if y_str == p_str else \"X\"\n",
    "        row.append([x_str, y_str, p_str, judge])\n",
    "        \n",
    "predict_df = pd.DataFrame(row, columns=[\"input\", \"answer\", \"predict\", \"judge\"])\n",
    "\n",
    "# accuracy\n",
    "print(len(predict_df.query('judge == \"O\"')) / len(predict_df))\n",
    "# show wrong predictions.\n",
    "print(predict_df.query('judge == \"X\"').head(10))"
   ]
  },
  {
   "cell_type": "markdown",
   "metadata": {},
   "source": [
    "# Training2\n",
    "* num_layers=3"
   ]
  },
  {
   "cell_type": "code",
   "execution_count": 11,
   "metadata": {},
   "outputs": [],
   "source": [
    "encoder = Encoder(vocab_size, embedding_dim, hidden_dim, num_layers=3).to(device)\n",
    "decoder = Decoder(vocab_size, embedding_dim, hidden_dim, num_layers=3).to(device)"
   ]
  },
  {
   "cell_type": "code",
   "execution_count": 12,
   "metadata": {},
   "outputs": [
    {
     "name": "stdout",
     "output_type": "stream",
     "text": [
      "training...\n",
      "Epoch 1: 1895.46\n",
      "Epoch 2: 1385.71\n",
      "Epoch 3: 1185.40\n",
      "Epoch 4: 1052.73\n",
      "Epoch 5: 952.63\n",
      "Epoch 6: 867.59\n",
      "Epoch 7: 782.54\n",
      "Epoch 8: 708.99\n",
      "Epoch 9: 649.54\n",
      "Epoch 10: 593.79\n",
      "Epoch 11: 545.48\n",
      "Epoch 12: 502.33\n",
      "Epoch 13: 461.39\n",
      "Epoch 14: 430.47\n",
      "Epoch 15: 393.76\n",
      "Epoch 16: 370.62\n",
      "Epoch 17: 346.15\n",
      "Epoch 18: 319.33\n",
      "Epoch 19: 297.14\n",
      "Epoch 20: 280.69\n",
      "Epoch 21: 268.00\n",
      "Epoch 22: 253.47\n",
      "Epoch 23: 239.29\n",
      "Epoch 24: 226.34\n",
      "Epoch 25: 215.35\n",
      "Epoch 26: 204.12\n",
      "Epoch 27: 198.07\n",
      "Epoch 28: 191.51\n",
      "Epoch 29: 179.63\n",
      "Epoch 30: 176.41\n",
      "Epoch 31: 165.85\n",
      "Epoch 32: 162.45\n",
      "Epoch 33: 158.61\n",
      "Epoch 34: 153.73\n",
      "Epoch 35: 140.52\n",
      "Epoch 36: 140.55\n",
      "Epoch 37: 128.87\n",
      "Epoch 38: 130.43\n",
      "Epoch 39: 128.17\n",
      "Epoch 40: 118.90\n",
      "Epoch 41: 118.46\n",
      "Epoch 42: 115.25\n",
      "Epoch 43: 112.30\n",
      "Epoch 44: 105.26\n",
      "Epoch 45: 105.50\n",
      "Epoch 46: 104.45\n",
      "Epoch 47: 90.56\n",
      "Epoch 48: 92.33\n",
      "Epoch 49: 101.00\n",
      "Epoch 50: 89.61\n",
      "Epoch 51: 84.16\n",
      "Epoch 52: 81.66\n",
      "Epoch 53: 80.05\n",
      "Epoch 54: 87.71\n",
      "Epoch 55: 81.29\n",
      "Epoch 56: 72.12\n",
      "Epoch 57: 66.28\n",
      "Epoch 58: 66.33\n",
      "Epoch 59: 71.00\n",
      "Epoch 60: 79.36\n",
      "Epoch 61: 60.43\n",
      "Epoch 62: 54.10\n",
      "Epoch 63: 66.93\n",
      "Epoch 64: 61.73\n",
      "Epoch 65: 53.46\n",
      "Epoch 66: 50.12\n",
      "Epoch 67: 68.76\n",
      "Epoch 68: 60.89\n",
      "Epoch 69: 40.37\n",
      "Epoch 70: 47.55\n",
      "Epoch 71: 59.86\n",
      "Epoch 72: 44.84\n",
      "Epoch 73: 41.23\n",
      "Epoch 74: 40.73\n",
      "Epoch 75: 56.85\n",
      "Epoch 76: 47.52\n",
      "Epoch 77: 38.72\n",
      "Epoch 78: 35.27\n",
      "Epoch 79: 43.59\n",
      "Epoch 80: 59.65\n",
      "Epoch 81: 39.83\n",
      "Epoch 82: 28.32\n",
      "Epoch 83: 30.71\n",
      "Epoch 84: 33.14\n",
      "Epoch 85: 45.85\n",
      "Epoch 86: 40.16\n",
      "Epoch 87: 25.42\n",
      "Epoch 88: 16.98\n",
      "Epoch 89: 16.15\n",
      "Epoch 90: 71.51\n",
      "Epoch 91: 52.67\n",
      "Epoch 92: 20.54\n",
      "Epoch 93: 13.10\n",
      "Epoch 94: 9.41\n",
      "Epoch 95: 7.81\n",
      "Epoch 96: 7.60\n",
      "Epoch 97: 111.86\n",
      "Epoch 98: 51.09\n",
      "Epoch 99: 16.51\n",
      "Epoch 100: 10.86\n",
      "Done\n"
     ]
    }
   ],
   "source": [
    "all_losses = train(EPOCH_NUM=100, lr=0.001)"
   ]
  },
  {
   "cell_type": "code",
   "execution_count": 18,
   "metadata": {},
   "outputs": [
    {
     "name": "stdout",
     "output_type": "stream",
     "text": [
      "training...\n",
      "Epoch 1: 61.96\n",
      "Epoch 2: 8.34\n",
      "Epoch 3: 4.02\n",
      "Epoch 4: 3.40\n",
      "Epoch 5: 60.34\n",
      "Epoch 6: 28.82\n",
      "Epoch 7: 6.74\n",
      "Epoch 8: 3.16\n",
      "Epoch 9: 2.41\n",
      "Epoch 10: 1.79\n",
      "Done\n"
     ]
    }
   ],
   "source": [
    "all_losses = train(EPOCH_NUM=10, lr=0.0001)"
   ]
  },
  {
   "cell_type": "code",
   "execution_count": 19,
   "metadata": {},
   "outputs": [
    {
     "data": {
      "text/plain": [
       "[<matplotlib.lines.Line2D at 0x7fdd6b6d6278>]"
      ]
     },
     "execution_count": 19,
     "metadata": {},
     "output_type": "execute_result"
    },
    {
     "data": {
      "image/png": "[encoded data removed]",
      "text/plain": [
       "<Figure size 432x288 with 1 Axes>"
      ]
     },
     "metadata": {
      "needs_background": "light"
     },
     "output_type": "display_data"
    }
   ],
   "source": [
    "import matplotlib.pyplot as plt\n",
    "%matplotlib inline\n",
    "plt.plot(all_losses)"
   ]
  },
  {
   "cell_type": "markdown",
   "metadata": {},
   "source": [
    "# Prediction2"
   ]
  },
  {
   "cell_type": "code",
   "execution_count": 20,
   "metadata": {},
   "outputs": [
    {
     "name": "stdout",
     "output_type": "stream",
     "text": [
      "150\n",
      "torch.Size([100, 5])\n"
     ]
    }
   ],
   "source": [
    "test_input_batch, test_output_batch = to_batch(test_x, test_y)\n",
    "input_tensor = torch.tensor(test_input_batch, device=device)\n",
    "\n",
    "predicts = []\n",
    "for i in range(len(test_input_batch)):\n",
    "    with torch.no_grad(): \n",
    "        encoder_state = encoder(input_tensor[i])\n",
    "\n",
    "        # Add start symbol.\n",
    "        start_char_batch = [[to_ID()[\"_\"]] for _ in range(BATCH_NUM)]\n",
    "        decoder_input_tensor = torch.tensor(start_char_batch, device=device)\n",
    "\n",
    "        decoder_hidden = encoder_state\n",
    "\n",
    "        # store prediction.\n",
    "        batch_tmp = torch.zeros(100,1, dtype=torch.long, device=device)\n",
    "        # print(batch_tmp.size())\n",
    "        # (100,1)\n",
    "\n",
    "        for _ in range(5):\n",
    "            decoder_output, decoder_hidden = decoder(decoder_input_tensor, decoder_hidden)\n",
    "            #print('decoder_output.shape: ', decoder_output.shape)\n",
    "            #decoder_output.shape:  torch.Size([100, 1, 13])\n",
    "\n",
    "            # output(predicted character) will be next input.\n",
    "            decoder_input_tensor = get_max_index(decoder_output.squeeze())\n",
    "        \n",
    "            batch_tmp = torch.cat([batch_tmp, decoder_input_tensor], dim=1)\n",
    "\n",
    "            # remove head element.\n",
    "            #print('batch_tmp[:, 1:]: ', batch_tmp[:, 1:])\n",
    "            #batch_tmp[:, 1:]:  tensor([[11],\n",
    "        predicts.append(batch_tmp[:,1:])\n",
    "\n",
    "print(len(predicts))\n",
    "# 150\n",
    "print(predicts[0].size())\n",
    "# (100, 5)"
   ]
  },
  {
   "cell_type": "code",
   "execution_count": 21,
   "metadata": {},
   "outputs": [
    {
     "name": "stdout",
     "output_type": "stream",
     "text": [
      "0.8539333333333333\n",
      "      input answer predict judge\n",
      "0   612-115    497     499     X\n",
      "11  663-647     16       6     X\n",
      "14   76-951   -875    -865     X\n",
      "23  310-372    -62     -52     X\n",
      "30    2-764   -762   -7622     X\n",
      "40   47-697   -650   -6400     X\n",
      "46  113-564   -451    -431     X\n",
      "49   261-24    237     227     X\n",
      "57   47-951   -904    -894     X\n",
      "58   354-90    264     254     X\n"
     ]
    }
   ],
   "source": [
    "import pandas as pd\n",
    "id2char = {str(i) : str(i) for i in range(10)}\n",
    "id2char.update({\"10\":\"\", \"11\":\"-\", \"12\":\"\"})\n",
    "row = []\n",
    "for i in range(len(test_input_batch)):\n",
    "    batch_input = test_input_batch[i]\n",
    "    batch_output = test_output_batch[i]\n",
    "    batch_predict = predicts[i]\n",
    "    for inp, output, predict in zip(batch_input, batch_output, batch_predict):\n",
    "        x = [id2char[str(idx)] for idx in inp]\n",
    "        y = [id2char[str(idx)] for idx in output]\n",
    "        p = [id2char[str(idx.item())] for idx in predict]\n",
    "\n",
    "        x_str = \"\".join(x)\n",
    "        y_str = \"\".join(y)\n",
    "        p_str = \"\".join(p)\n",
    "\n",
    "        judge = \"O\" if y_str == p_str else \"X\"\n",
    "        row.append([x_str, y_str, p_str, judge])\n",
    "        \n",
    "predict_df = pd.DataFrame(row, columns=[\"input\", \"answer\", \"predict\", \"judge\"])\n",
    "\n",
    "# accuracy\n",
    "print(len(predict_df.query('judge == \"O\"')) / len(predict_df))\n",
    "# show wrong predictions.\n",
    "print(predict_df.query('judge == \"X\"').head(10))"
   ]
  },
  {
   "cell_type": "code",
   "execution_count": null,
   "metadata": {},
   "outputs": [],
   "source": []
  }
 ],
 "metadata": {
  "kernelspec": {
   "display_name": "Python 3",
   "language": "python",
   "name": "python3"
  },
  "language_info": {
   "codemirror_mode": {
    "name": "ipython",
    "version": 3
   },
   "file_extension": ".py",
   "mimetype": "text/x-python",
   "name": "python",
   "nbconvert_exporter": "python",
   "pygments_lexer": "ipython3",
   "version": "3.6.9"
  }
 },
 "nbformat": 4,
 "nbformat_minor": 2
}
