{
 "cells": [
  {
   "cell_type": "code",
   "execution_count": 1,
   "metadata": {},
   "outputs": [],
   "source": [
    "import torch\n",
    "import torch.nn as nn\n",
    "import torch.optim as optim\n",
    "\n",
    "from sklearn.model_selection import train_test_split\n",
    "from sklearn.utils import shuffle\n",
    "\n",
    "from src.data_gen import subtraction_datasets, to_ID, to_batch\n",
    "from src.endeco import Encoder, Decoder"
   ]
  },
  {
   "cell_type": "code",
   "execution_count": 2,
   "metadata": {},
   "outputs": [
    {
     "name": "stdout",
     "output_type": "stream",
     "text": [
      "cuda\n"
     ]
    }
   ],
   "source": [
    "embedding_dim = 200\n",
    "hidden_dim = 128\n",
    "vocab_size = len(to_ID())\n",
    "\n",
    "BATCH_NUM = 100\n",
    "EPOCH_NUM = 100\n",
    "\n",
    "device = torch.device('cuda' if torch.cuda.is_available() else 'cpu')\n",
    "print(device)"
   ]
  },
  {
   "cell_type": "code",
   "execution_count": null,
   "metadata": {},
   "outputs": [],
   "source": [
    "input_data, output_data = subtraction_datasets(record_num=50000)\n",
    "train_x, test_x, train_y, test_y = train_test_split(input_data, output_data, train_size=0.7)"
   ]
  },
  {
   "cell_type": "code",
   "execution_count": 3,
   "metadata": {},
   "outputs": [],
   "source": [
    "encoder = Encoder(vocab_size, embedding_dim, hidden_dim).to(device)\n",
    "decoder = Decoder(vocab_size, embedding_dim, hidden_dim).to(device)\n",
    "criterion = nn.CrossEntropyLoss()"
   ]
  },
  {
   "cell_type": "code",
   "execution_count": 29,
   "metadata": {},
   "outputs": [],
   "source": [
    "encoder_optimizer = optim.Adam(encoder.parameters(), lr=0.0001)\n",
    "decoder_optimizer = optim.Adam(decoder.parameters(), lr=0.0001)"
   ]
  },
  {
   "cell_type": "code",
   "execution_count": 30,
   "metadata": {},
   "outputs": [
    {
     "name": "stdout",
     "output_type": "stream",
     "text": [
      "35000\n",
      "[4, 3, 11, 4, 8, 0, 10]\n"
     ]
    }
   ],
   "source": [
    "print(len(train_x))\n",
    "print(train_x[0])"
   ]
  },
  {
   "cell_type": "code",
   "execution_count": 31,
   "metadata": {},
   "outputs": [
    {
     "name": "stdout",
     "output_type": "stream",
     "text": [
      "training...\n",
      "Epoch 1: 0.24\n",
      "Epoch 2: 0.21\n",
      "Epoch 3: 0.19\n",
      "Epoch 4: 0.18\n",
      "Epoch 5: 0.17\n",
      "Epoch 6: 0.16\n",
      "Epoch 7: 0.15\n",
      "Epoch 8: 0.14\n",
      "Epoch 9: 0.13\n",
      "Epoch 10: 0.12\n",
      "Epoch 11: 0.11\n",
      "Epoch 12: 0.11\n",
      "Epoch 13: 0.10\n",
      "Epoch 14: 0.10\n",
      "Epoch 15: 0.09\n",
      "Epoch 16: 0.09\n",
      "Epoch 17: 0.08\n",
      "Epoch 18: 0.08\n",
      "Epoch 19: 0.08\n",
      "Epoch 20: 0.07\n",
      "Epoch 21: 0.07\n",
      "Epoch 22: 0.06\n",
      "Epoch 23: 0.06\n",
      "Epoch 24: 0.06\n",
      "Epoch 25: 0.06\n",
      "Epoch 26: 0.05\n",
      "Epoch 27: 0.05\n",
      "Epoch 28: 0.05\n",
      "Epoch 29: 0.05\n",
      "Epoch 30: 0.04\n",
      "Epoch 31: 0.04\n",
      "Epoch 32: 0.04\n",
      "Epoch 33: 0.04\n",
      "Epoch 34: 0.04\n",
      "Epoch 35: 0.03\n",
      "Epoch 36: 0.03\n",
      "Epoch 37: 0.03\n",
      "Epoch 38: 0.03\n",
      "Epoch 39: 0.03\n",
      "Epoch 40: 0.03\n",
      "Epoch 41: 0.03\n",
      "Epoch 42: 0.02\n",
      "Epoch 43: 0.02\n",
      "Epoch 44: 0.02\n",
      "Epoch 45: 0.02\n",
      "Epoch 46: 0.02\n",
      "Epoch 47: 0.02\n",
      "Epoch 48: 0.59\n",
      "Epoch 49: 0.34\n",
      "Epoch 50: 0.13\n",
      "Epoch 51: 0.05\n",
      "Epoch 52: 0.04\n",
      "Epoch 53: 0.04\n",
      "Epoch 54: 0.04\n",
      "Epoch 55: 0.03\n",
      "Epoch 56: 0.03\n",
      "Epoch 57: 0.03\n",
      "Epoch 58: 0.03\n",
      "Epoch 59: 0.03\n",
      "Epoch 60: 0.03\n",
      "Epoch 61: 0.02\n",
      "Epoch 62: 0.02\n",
      "Epoch 63: 0.02\n",
      "Epoch 64: 0.02\n",
      "Epoch 65: 0.02\n",
      "Epoch 66: 0.02\n",
      "Epoch 67: 0.02\n",
      "Epoch 68: 0.02\n",
      "Epoch 69: 0.02\n",
      "Epoch 70: 0.02\n",
      "Epoch 71: 0.02\n",
      "Epoch 72: 0.02\n",
      "Epoch 73: 0.02\n",
      "Epoch 74: 0.02\n",
      "Epoch 75: 0.02\n",
      "Epoch 76: 0.01\n",
      "Epoch 77: 0.01\n",
      "Epoch 78: 0.01\n",
      "Epoch 79: 0.01\n",
      "Epoch 80: 0.01\n",
      "Epoch 81: 0.01\n",
      "Epoch 82: 0.01\n",
      "Epoch 83: 0.01\n",
      "Epoch 84: 0.01\n",
      "Epoch 85: 0.01\n",
      "Epoch 86: 0.01\n",
      "Epoch 87: 0.01\n",
      "Epoch 88: 0.01\n",
      "Epoch 89: 0.01\n",
      "Epoch 90: 0.01\n",
      "Epoch 91: 0.01\n",
      "Epoch 92: 0.01\n",
      "Epoch 93: 0.01\n",
      "Epoch 94: 0.01\n",
      "Epoch 95: 0.01\n",
      "Epoch 96: 0.01\n",
      "Epoch 97: 0.01\n",
      "Epoch 98: 0.01\n",
      "Epoch 99: 0.01\n",
      "Epoch 100: 0.01\n",
      "Done\n"
     ]
    }
   ],
   "source": [
    "all_losses = []\n",
    "print(\"training...\")\n",
    "\n",
    "for epoch in range(1, EPOCH_NUM + 1):\n",
    "    epoch_loss = 0\n",
    "\n",
    "    input_batch, output_batch = to_batch(train_x, train_y, batch_size=BATCH_NUM)\n",
    "\n",
    "    for i in range(len(input_batch)):\n",
    "        encoder_optimizer.zero_grad()\n",
    "        decoder_optimizer.zero_grad()\n",
    "\n",
    "        input_ts = torch.tensor(input_batch[i], device=device)\n",
    "        output_ts = torch.tensor(output_batch[i], device=device)\n",
    "        #print('input_ts.shape: ', input_ts.shape)\n",
    "        \n",
    "        encoder_state = encoder(input_ts)\n",
    "\n",
    "        # last-data can not be next-input.\n",
    "        training_source = output_ts[:, :-1]\n",
    "        # start symbol can not ba data to train.\n",
    "        training_data = output_ts[:, 1:]\n",
    "\n",
    "        #print('training_source.shape: ', training_source.shape, ', training_data.shape: ', training_data.shape)\n",
    "        loss = 0\n",
    "        \n",
    "\n",
    "        decoder_output, _ = decoder(training_source, encoder_state)\n",
    "\n",
    "        for j in range(decoder_output.size()[1]):\n",
    "            loss += criterion(decoder_output[:, j, :], training_data[:, j])\n",
    "\n",
    "        epoch_loss += loss.item()\n",
    "        loss.backward()\n",
    "\n",
    "        encoder_optimizer.step()\n",
    "        decoder_optimizer.step()\n",
    "\n",
    "    print(\"Epoch %d: %.2f\" % (epoch, epoch_loss))\n",
    "    all_losses.append(epoch_loss)\n",
    "    #if epoch_loss < 1: break\n",
    "print(\"Done\")"
   ]
  },
  {
   "cell_type": "code",
   "execution_count": 32,
   "metadata": {},
   "outputs": [
    {
     "data": {
      "text/plain": [
       "[<matplotlib.lines.Line2D at 0x7f298acce470>]"
      ]
     },
     "execution_count": 32,
     "metadata": {},
     "output_type": "execute_result"
    },
    {
     "data": {
      "image/png": "[encoded data removed]",
      "text/plain": [
       "<Figure size 432x288 with 1 Axes>"
      ]
     },
     "metadata": {
      "needs_background": "light"
     },
     "output_type": "display_data"
    }
   ],
   "source": [
    "import matplotlib.pyplot as plt\n",
    "%matplotlib inline\n",
    "plt.plot(all_losses)"
   ]
  },
  {
   "cell_type": "code",
   "execution_count": 33,
   "metadata": {},
   "outputs": [
    {
     "name": "stdout",
     "output_type": "stream",
     "text": [
      "150\n",
      "torch.Size([100, 5])\n"
     ]
    }
   ],
   "source": [
    "# Decoderのアウトプットのテンソルから要素が最大のインデックスを返す。つまり生成文字を意味する\n",
    "def get_max_index(decoder_output):\n",
    "  results = []\n",
    "  for h in decoder_output:\n",
    "    results.append(torch.argmax(h))\n",
    "  return torch.tensor(results, device=device).view(BATCH_NUM, 1)\n",
    "\n",
    "# 評価用データ\n",
    "test_input_batch, test_output_batch = to_batch(test_x, test_y)\n",
    "input_tensor = torch.tensor(test_input_batch, device=device)\n",
    "\n",
    "predicts = []\n",
    "for i in range(len(test_input_batch)):\n",
    "  with torch.no_grad(): # 勾配計算させない\n",
    "    encoder_state = encoder(input_tensor[i])\n",
    "\n",
    "    # Decoderにはまず文字列生成開始を表す\"_\"をインプットにするので、\"_\"のtensorをバッチサイズ分作成\n",
    "    start_char_batch = [[to_ID()[\"_\"]] for _ in range(BATCH_NUM)]\n",
    "    decoder_input_tensor = torch.tensor(start_char_batch, device=device)\n",
    "\n",
    "    # 変数名変換\n",
    "    decoder_hidden = encoder_state\n",
    "\n",
    "    # バッチ毎の結果を結合するための入れ物を定義\n",
    "    batch_tmp = torch.zeros(100,1, dtype=torch.long, device=device)\n",
    "    # print(batch_tmp.size())\n",
    "    # (100,1)\n",
    "\n",
    "    for _ in range(5):\n",
    "      decoder_output, decoder_hidden = decoder(decoder_input_tensor, decoder_hidden)\n",
    "      # 予測文字を取得しつつ、そのまま次のdecoderのインプットとなる\n",
    "      decoder_input_tensor = get_max_index(decoder_output.squeeze())\n",
    "      # バッチ毎の結果を予測順に結合\n",
    "      batch_tmp = torch.cat([batch_tmp, decoder_input_tensor], dim=1)\n",
    "\n",
    "    # 最初のbatch_tmpの0要素が先頭に残ってしまっているのでスライスして削除\n",
    "    predicts.append(batch_tmp[:,1:])\n",
    "\n",
    "# バッチ毎の予測結果がまとまって格納されてます。\n",
    "print(len(predicts))\n",
    "# 150\n",
    "print(predicts[0].size())\n",
    "# (100, 5)"
   ]
  },
  {
   "cell_type": "code",
   "execution_count": 34,
   "metadata": {},
   "outputs": [
    {
     "name": "stdout",
     "output_type": "stream",
     "text": [
      "0.86\n",
      "      input answer predict judge\n",
      "0    683-50    633     623     X\n",
      "7   788-397    391     351     X\n",
      "11  675-181    494     484     X\n",
      "21   101-55     46      55     X\n",
      "22   766-59    707     717     X\n",
      "27  658-720    -62    -132     X\n",
      "31  638-360    278     318     X\n",
      "36   92-773   -681    -601     X\n",
      "43   973-17    956     946     X\n",
      "48  764-280    484     424     X\n"
     ]
    }
   ],
   "source": [
    "import pandas as pd\n",
    "\n",
    "id2char = {str(i) : str(i) for i in range(10)}\n",
    "id2char.update({\"10\":\"\", \"11\":\"-\", \"12\":\"\"})\n",
    "row = []\n",
    "for i in range(len(test_input_batch)):\n",
    "  batch_input = test_input_batch[i]\n",
    "  batch_output = test_output_batch[i]\n",
    "  batch_predict = predicts[i]\n",
    "  for inp, output, predict in zip(batch_input, batch_output, batch_predict):\n",
    "    x = [id2char[str(idx)] for idx in inp]\n",
    "    y = [id2char[str(idx)] for idx in output]\n",
    "    p = [id2char[str(idx.item())] for idx in predict]\n",
    "\n",
    "    x_str = \"\".join(x)\n",
    "    y_str = \"\".join(y)\n",
    "    p_str = \"\".join(p)\n",
    "\n",
    "    judge = \"O\" if y_str == p_str else \"X\"\n",
    "    row.append([x_str, y_str, p_str, judge])\n",
    "predict_df = pd.DataFrame(row, columns=[\"input\", \"answer\", \"predict\", \"judge\"])\n",
    "\n",
    "# 正解率を表示\n",
    "print(len(predict_df.query('judge == \"O\"')) / len(predict_df))\n",
    "# 0.8492\n",
    "# 間違えたデータを一部見てみる\n",
    "print(predict_df.query('judge == \"X\"').head(10))"
   ]
  },
  {
   "cell_type": "code",
   "execution_count": null,
   "metadata": {},
   "outputs": [],
   "source": []
  }
 ],
 "metadata": {
  "kernelspec": {
   "display_name": "Python 3",
   "language": "python",
   "name": "python3"
  },
  "language_info": {
   "codemirror_mode": {
    "name": "ipython",
    "version": 3
   },
   "file_extension": ".py",
   "mimetype": "text/x-python",
   "name": "python",
   "nbconvert_exporter": "python",
   "pygments_lexer": "ipython3",
   "version": "3.6.9"
  }
 },
 "nbformat": 4,
 "nbformat_minor": 2
}
